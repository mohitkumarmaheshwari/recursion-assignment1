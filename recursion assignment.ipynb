{
 "cells": [
  {
   "cell_type": "code",
   "execution_count": null,
   "id": "90512aa9-dbfd-4617-8038-3d134da5d5ed",
   "metadata": {},
   "outputs": [],
   "source": [
    "# recursion assignment"
   ]
  },
  {
   "cell_type": "markdown",
   "id": "253ca0f3-45cd-4108-954c-661fda5a93b0",
   "metadata": {},
   "source": [
    "#Q.1 Can you explain the logic and working of the Tower of Hanoi algorithm by writing a Java program?\n",
    "How does the recursion work, and how are the movements of disks between rods accomplished?"
   ]
  },
  {
   "cell_type": "code",
   "execution_count": 2,
   "id": "4cfd20a4-f7a1-46be-b5a4-8ecc858cdaf2",
   "metadata": {},
   "outputs": [
    {
     "name": "stdout",
     "output_type": "stream",
     "text": [
      "Move disk 1 from rod A to rod C\n",
      "Move disk 2 from rod A to rod B\n",
      "Move disk 1 from rod C to rod B\n",
      "Move disk 3 from rod A to rod C\n",
      "Move disk 1 from rod B to rod A\n",
      "Move disk 2 from rod B to rod C\n",
      "Move disk 1 from rod A to rod C\n"
     ]
    }
   ],
   "source": [
    "\n",
    "#Certainly! Here's an example of the Tower of Hanoi problem using Python, solving it for three disks:\n",
    "def move_disks(n, source, auxiliary, destination):\n",
    "    if n == 1:\n",
    "        print(f\"Move disk 1 from rod {source} to rod {destination}\")\n",
    "        return\n",
    "    \n",
    "    move_disks(n - 1, source, destination, auxiliary)\n",
    "    print(f\"Move disk {n} from rod {source} to rod {destination}\")\n",
    "    move_disks(n - 1, auxiliary, source, destination)\n",
    "\n",
    "def tower_of_hanoi(num_of_disks):\n",
    "    move_disks(num_of_disks, 'A', 'B', 'C')\n",
    "\n",
    "# Solving Tower of Hanoi for 3 disks\n",
    "tower_of_hanoi(3)\n"
   ]
  },
  {
   "cell_type": "markdown",
   "id": "16196c4b-98a4-4e94-bf8d-1054b48ff0b6",
   "metadata": {},
   "source": [
    "Explanation:\n",
    "\n",
    "The move_disks function is responsible for moving disks.\n",
    "When n is 1, it's the base case. It moves the smallest disk directly from the source rod to the destination rod.\n",
    "For n > 1, the function follows these steps:\n",
    "It moves n-1 disks from the source rod to the auxiliary rod using the destination rod as the auxiliary.\n",
    "It then moves the n-th disk (the largest one) from the source rod to the destination rod.\n",
    "Finally, it recursively moves the n-1 disks from the auxiliary rod to the destination rod using the source rod as the auxiliary.\n",
    "This process continues recursively until all disks are moved from the source rod to the destination rod, adhering to the rules of the Tower of Hanoi problem (moving one disk at a time and never placing a larger disk on top of a smaller one).\n",
    "\n",
    "The movements of disks between rods are managed by the recursive calls within the move_disks function. Each recursive call handles a smaller subproblem of moving a subset of disks, eventually solving the Tower of Hanoi problem for the specified number of disks.\n",
    "\n",
    "\n",
    "\n",
    "\n",
    "\n"
   ]
  },
  {
   "cell_type": "code",
   "execution_count": 3,
   "id": "8f357a47-dddc-4d4b-a3ac-31c52ecbac25",
   "metadata": {},
   "outputs": [],
   "source": [
    "#Q.2 Given two strings word1 and word2, return the minimum number of operations required to convert word1\n",
    "#to word2."
   ]
  },
  {
   "cell_type": "markdown",
   "id": "3c6cf4a7-4a31-46ef-b5ba-f3a84504fb0a",
   "metadata": {},
   "source": [
    "Certainly! This problem can be solved using dynamic programming, specifically the concept of edit distance. The minimum number of operations required to convert one string to another can be calculated using a dynamic programming table.\n",
    "\n",
    "Here's a Python solution to find the minimum number of operations (edit distance) between two words:"
   ]
  },
  {
   "cell_type": "code",
   "execution_count": 4,
   "id": "65ff9bbd-9fdb-4070-862c-5e622d839116",
   "metadata": {},
   "outputs": [
    {
     "name": "stdout",
     "output_type": "stream",
     "text": [
      "3\n",
      "5\n"
     ]
    }
   ],
   "source": [
    "def minDistance(word1, word2):\n",
    "    m, n = len(word1), len(word2)\n",
    "\n",
    "    # Initializing a DP table\n",
    "    dp = [[0] * (n + 1) for _ in range(m + 1)]\n",
    "\n",
    "    # Filling the DP table\n",
    "    for i in range(m + 1):\n",
    "        for j in range(n + 1):\n",
    "            if i == 0:\n",
    "                dp[i][j] = j\n",
    "            elif j == 0:\n",
    "                dp[i][j] = i\n",
    "            elif word1[i - 1] == word2[j - 1]:\n",
    "                dp[i][j] = dp[i - 1][j - 1]\n",
    "            else:\n",
    "                dp[i][j] = 1 + min(dp[i - 1][j - 1], dp[i][j - 1], dp[i - 1][j])\n",
    "\n",
    "    return dp[m][n]\n",
    "\n",
    "# Test cases\n",
    "word1_1, word2_1 = \"horse\", \"ros\"\n",
    "word1_2, word2_2 = \"intention\", \"execution\"\n",
    "\n",
    "print(minDistance(word1_1, word2_1))  # Output: 3\n",
    "print(minDistance(word1_2, word2_2))  # Output: 5\n"
   ]
  },
  {
   "cell_type": "markdown",
   "id": "ace14a3c-7188-4bd1-bc0e-d1d0f9a532f0",
   "metadata": {},
   "source": [
    "Explanation:\n",
    "\n",
    "The minDistance function takes two input strings, word1 and word2, and computes the minimum number of operations required to convert word1 into word2.\n",
    "It initializes a DP table dp with dimensions (m+1) x (n+1), where m and n are the lengths of word1 and word2 respectively.\n",
    "It fills the DP table using a bottom-up approach:\n",
    "The base cases are when either of the words is an empty string. In these cases, the number of operations needed is the length of the other word.\n",
    "For non-empty strings, it checks if the characters at the corresponding positions in word1 and word2 match. If they match, the value in the DP table is the same as the value at the previous position.\n",
    "If the characters don't match, it takes the minimum of three operations:\n",
    "Replacing a character (dp[i - 1][j - 1])\n",
    "Inserting a character (dp[i][j - 1])\n",
    "Deleting a character (dp[i - 1][j])\n",
    "Finally, it returns dp[m][n], which contains the minimum number of operations needed to convert word1 into word2.\n",
    "This algorithm computes the minimum edit distance between two words efficiently using dynamic programming."
   ]
  },
  {
   "cell_type": "code",
   "execution_count": 5,
   "id": "4799eeb4-f8fd-436a-87aa-ec1b21ff0178",
   "metadata": {},
   "outputs": [],
   "source": [
    "#Q. 3 Print the max value of the array [ 13, 1, -3, 22, 5]."
   ]
  },
  {
   "cell_type": "markdown",
   "id": "76784734-f3ec-4453-80de-24e06c92c742",
   "metadata": {},
   "source": [
    "Certainly! To find the maximum value of the array [13, 1, -3, 22, 5] in Python, you can use the max() function. Here's an example:"
   ]
  },
  {
   "cell_type": "code",
   "execution_count": 8,
   "id": "acc7c704-8931-43f4-9b6c-7a9d188d3a0a",
   "metadata": {},
   "outputs": [
    {
     "name": "stdout",
     "output_type": "stream",
     "text": [
      "The maximum value in the array is: 22\n"
     ]
    }
   ],
   "source": [
    "arr = [13, 1, -3, 22, 5]\n",
    "max_value = max(arr)\n",
    "print(\"The maximum value in the array is:\", max_value)\n"
   ]
  },
  {
   "cell_type": "markdown",
   "id": "b4fd98d0-20b0-4361-8baa-1aa6b309da83",
   "metadata": {},
   "source": [
    "This code will output:\n",
    "\n",
    "The maximum value in the array is: 22"
   ]
  },
  {
   "cell_type": "markdown",
   "id": "bb53e11e-0a71-42d2-93f6-a495e01f0639",
   "metadata": {},
   "source": [
    "The max() function in Python returns the maximum value present in the given iterable, in this case, the list [13, 1, -3, 22, 5]."
   ]
  },
  {
   "cell_type": "code",
   "execution_count": 9,
   "id": "08a9f397-7e0d-4a42-8f96-dd88b77278d4",
   "metadata": {},
   "outputs": [],
   "source": [
    "#Q.4 Find the sum of the values of the array [92, 23, 15, -20, 10]."
   ]
  },
  {
   "cell_type": "markdown",
   "id": "9ccd159d-1a91-489c-91f8-caeef7b27690",
   "metadata": {},
   "source": [
    "\n",
    "Sure, to find the sum of the values in the array [92, 23, 15, -20, 10] in Python, you can use the sum() function. Here's how you can do it:"
   ]
  },
  {
   "cell_type": "code",
   "execution_count": 10,
   "id": "9dea4285-0e48-42b5-83c3-7c2b0657e5d9",
   "metadata": {},
   "outputs": [
    {
     "name": "stdout",
     "output_type": "stream",
     "text": [
      "The sum of the values in the array is: 120\n"
     ]
    }
   ],
   "source": [
    "arr = [92, 23, 15, -20, 10]\n",
    "sum_of_values = sum(arr)\n",
    "print(\"The sum of the values in the array is:\", sum_of_values)\n"
   ]
  },
  {
   "cell_type": "markdown",
   "id": "4fc7f096-b365-42b6-b28e-2c4effd1b772",
   "metadata": {},
   "source": [
    "This code will output:\n",
    "\n",
    "The sum of the values in the array is: 120"
   ]
  },
  {
   "cell_type": "markdown",
   "id": "0d7fe56d-dade-4a4f-b5f6-5b2772820fa7",
   "metadata": {},
   "source": [
    "The sum() function in Python calculates the sum of all the elements in the given iterable, in this case, the list [92, 23, 15, -20, 10], and returns the total sum."
   ]
  },
  {
   "cell_type": "code",
   "execution_count": 11,
   "id": "590fb4b5-b656-4f34-8f9e-60a3f521844e",
   "metadata": {},
   "outputs": [],
   "source": [
    "#Q.5 Given a number n. Print if it is an armstrong number or not.An armstrong number is a number if the sum\n",
    "#of every digit in that number raised to the power of total digits in that number is equal to the number."
   ]
  },
  {
   "cell_type": "markdown",
   "id": "eaaa0cc6-86b0-4dcd-aaf5-8e5d5ec229ca",
   "metadata": {},
   "source": [
    "\n",
    "Sure, here's a Python function that checks whether a given number is an Armstrong number or not:"
   ]
  },
  {
   "cell_type": "code",
   "execution_count": 12,
   "id": "5214fdf9-6968-40d9-ac12-9c183051212f",
   "metadata": {},
   "outputs": [
    {
     "name": "stdout",
     "output_type": "stream",
     "text": [
      "Input 1: Yes\n",
      "Input 2: No\n"
     ]
    }
   ],
   "source": [
    "def is_armstrong_number(n):\n",
    "    # Convert the number to a string to find its length (number of digits)\n",
    "    num_str = str(n)\n",
    "    num_digits = len(num_str)\n",
    "    \n",
    "    # Calculate the sum of each digit raised to the power of total digits\n",
    "    sum_of_digits = sum(int(digit) ** num_digits for digit in num_str)\n",
    "    \n",
    "    # Check if the sum is equal to the original number\n",
    "    if sum_of_digits == n:\n",
    "        return \"Yes\"\n",
    "    else:\n",
    "        return \"No\"\n",
    "\n",
    "# Test cases\n",
    "input1 = 153\n",
    "input2 = 134\n",
    "\n",
    "print(\"Input 1:\", is_armstrong_number(input1))  # Output: Yes\n",
    "print(\"Input 2:\", is_armstrong_number(input2))  # Output: No\n"
   ]
  },
  {
   "cell_type": "markdown",
   "id": "07ab9ebf-9d3c-446a-a9c7-f343bdecee1e",
   "metadata": {},
   "source": [
    "Explanation:\n",
    "\n",
    "The is_armstrong_number function takes an input number n.\n",
    "It calculates the number of digits in n by converting it to a string and finding its length (num_digits).\n",
    "It then computes the sum of each digit raised to the power of num_digits using a generator expression and the sum() function.\n",
    "Finally, it checks if the calculated sum is equal to the original number and returns \"Yes\" if they are equal, otherwise \"No\".\n",
    "This function checks whether a given number is an Armstrong number based on the provided conditions."
   ]
  }
 ],
 "metadata": {
  "kernelspec": {
   "display_name": "Python 3 (ipykernel)",
   "language": "python",
   "name": "python3"
  },
  "language_info": {
   "codemirror_mode": {
    "name": "ipython",
    "version": 3
   },
   "file_extension": ".py",
   "mimetype": "text/x-python",
   "name": "python",
   "nbconvert_exporter": "python",
   "pygments_lexer": "ipython3",
   "version": "3.10.8"
  }
 },
 "nbformat": 4,
 "nbformat_minor": 5
}
